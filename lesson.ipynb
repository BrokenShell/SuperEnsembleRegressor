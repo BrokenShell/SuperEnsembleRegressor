{
 "cells": [
  {
   "cell_type": "markdown",
   "source": [
    "# Labs Data Science Workshop: Super Ensemble Regressor\n",
    "\n",
    "### Workshop Outline\n",
    "1. Introduction & Motivation\n",
    "2. Regressor Model\n",
    "3. Ensemble Model\n",
    "4. Super Ensemble Model"
   ],
   "metadata": {
    "collapsed": false,
    "pycharm": {
     "name": "#%% md\n"
    }
   }
  },
  {
   "cell_type": "markdown",
   "source": [
    "## Step 1 - Introduction & Motivation\n",
    "<br>\n",
    "\n",
    "### Problem\n",
    "We've trained several Regressor models, but none of them are achieving the results we're looking for.\n",
    "We need a better model!\n",
    "<br>\n",
    "\n",
    "### Goal\n",
    "Build a regression model that can be trained in under 10 seconds and achieve better than 120 MSE.\n",
    "<br>\n",
    "\n",
    "### Solution\n",
    "What if we combine multiple models to make one giant model?\n",
    "<br>\n",
    "\n",
    "### Restrictions\n",
    "Due to time constraints, we will not be doing any of the following in this workshop... but in general, you really should.\n",
    "- Data Cleaning\n",
    "- Scaling\n",
    "- Imputing\n",
    "- Encoding\n",
    "- Data Engineering\n",
    "- Hyperparameter Tuning\n",
    "- Data Analysis"
   ],
   "metadata": {
    "collapsed": false,
    "pycharm": {
     "name": "#%% md\n"
    }
   }
  },
  {
   "cell_type": "markdown",
   "source": [
    "## Setup"
   ],
   "metadata": {
    "collapsed": false,
    "pycharm": {
     "name": "#%% md\n"
    }
   }
  },
  {
   "cell_type": "markdown",
   "source": [
    "Choosing a model: [Scikit Cheat Sheet](https://scikit-learn.org/stable/tutorial/machine_learning_map/index.html)"
   ],
   "metadata": {
    "collapsed": false,
    "pycharm": {
     "name": "#%% md\n"
    }
   }
  },
  {
   "cell_type": "code",
   "execution_count": 33,
   "outputs": [],
   "source": [
    "import os\n",
    "from time import perf_counter\n",
    "\n",
    "import pandas\n",
    "from sklearn.linear_model import *\n",
    "from sklearn.model_selection import train_test_split\n",
    "from sklearn.metrics import mean_squared_error"
   ],
   "metadata": {
    "collapsed": false,
    "pycharm": {
     "name": "#%%\n"
    }
   }
  },
  {
   "cell_type": "markdown",
   "source": [
    "### Load Data"
   ],
   "metadata": {
    "collapsed": false,
    "pycharm": {
     "name": "#%% md\n"
    }
   }
  },
  {
   "cell_type": "code",
   "execution_count": 34,
   "outputs": [
    {
     "data": {
      "text/plain": "          A         B         C         D         E    Target\n0  3.882026  3.882026  3.882026  3.882026  3.882026  2.559627\n1  3.200079  3.200079  3.200079  3.200079  3.200079  5.924739\n2  3.489369  3.489369  3.489369  3.489369  3.489369 -7.223148\n3  4.120447  4.120447  4.120447  4.120447  4.120447 -1.952860\n4  3.933779  3.933779  3.933779  3.933779  3.933779 -0.719467",
      "text/html": "<div>\n<style scoped>\n    .dataframe tbody tr th:only-of-type {\n        vertical-align: middle;\n    }\n\n    .dataframe tbody tr th {\n        vertical-align: top;\n    }\n\n    .dataframe thead th {\n        text-align: right;\n    }\n</style>\n<table border=\"1\" class=\"dataframe\">\n  <thead>\n    <tr style=\"text-align: right;\">\n      <th></th>\n      <th>A</th>\n      <th>B</th>\n      <th>C</th>\n      <th>D</th>\n      <th>E</th>\n      <th>Target</th>\n    </tr>\n  </thead>\n  <tbody>\n    <tr>\n      <th>0</th>\n      <td>3.882026</td>\n      <td>3.882026</td>\n      <td>3.882026</td>\n      <td>3.882026</td>\n      <td>3.882026</td>\n      <td>2.559627</td>\n    </tr>\n    <tr>\n      <th>1</th>\n      <td>3.200079</td>\n      <td>3.200079</td>\n      <td>3.200079</td>\n      <td>3.200079</td>\n      <td>3.200079</td>\n      <td>5.924739</td>\n    </tr>\n    <tr>\n      <th>2</th>\n      <td>3.489369</td>\n      <td>3.489369</td>\n      <td>3.489369</td>\n      <td>3.489369</td>\n      <td>3.489369</td>\n      <td>-7.223148</td>\n    </tr>\n    <tr>\n      <th>3</th>\n      <td>4.120447</td>\n      <td>4.120447</td>\n      <td>4.120447</td>\n      <td>4.120447</td>\n      <td>4.120447</td>\n      <td>-1.952860</td>\n    </tr>\n    <tr>\n      <th>4</th>\n      <td>3.933779</td>\n      <td>3.933779</td>\n      <td>3.933779</td>\n      <td>3.933779</td>\n      <td>3.933779</td>\n      <td>-0.719467</td>\n    </tr>\n  </tbody>\n</table>\n</div>"
     },
     "execution_count": 34,
     "metadata": {},
     "output_type": "execute_result"
    }
   ],
   "source": [
    "df = pandas.read_csv(os.path.join(\"data\", \"dataset2.csv\"))\n",
    "df.head()"
   ],
   "metadata": {
    "collapsed": false,
    "pycharm": {
     "name": "#%%\n"
    }
   }
  },
  {
   "cell_type": "code",
   "execution_count": 35,
   "outputs": [
    {
     "data": {
      "text/plain": "(5000, 6)"
     },
     "execution_count": 35,
     "metadata": {},
     "output_type": "execute_result"
    }
   ],
   "source": [
    "df.shape"
   ],
   "metadata": {
    "collapsed": false,
    "pycharm": {
     "name": "#%%\n"
    }
   }
  },
  {
   "cell_type": "code",
   "execution_count": 36,
   "outputs": [
    {
     "data": {
      "text/plain": "                 A            B            C            D            E  \\\ncount  5000.000000  5000.000000  5000.000000  5000.000000  5000.000000   \nmean      0.577287     0.570648     0.601463     0.609685     0.605202   \nstd       1.519043     1.509097     1.511941     1.499876     1.491528   \nmin      -3.635200    -3.295561    -3.922400    -3.688365    -3.856375   \n25%      -0.524725    -0.526124    -0.488893    -0.468482    -0.482765   \n50%       0.305244     0.288422     0.326872     0.290739     0.333431   \n75%       1.550164     1.477511     1.543315     1.576715     1.529544   \nmax       4.379678     4.479084     4.379678     4.379678     4.379678   \n\n            Target  \ncount  5000.000000  \nmean     -0.109464  \nstd      49.658474  \nmin    -203.648769  \n25%     -26.337749  \n50%      -1.507371  \n75%      28.055682  \nmax     209.467517  ",
      "text/html": "<div>\n<style scoped>\n    .dataframe tbody tr th:only-of-type {\n        vertical-align: middle;\n    }\n\n    .dataframe tbody tr th {\n        vertical-align: top;\n    }\n\n    .dataframe thead th {\n        text-align: right;\n    }\n</style>\n<table border=\"1\" class=\"dataframe\">\n  <thead>\n    <tr style=\"text-align: right;\">\n      <th></th>\n      <th>A</th>\n      <th>B</th>\n      <th>C</th>\n      <th>D</th>\n      <th>E</th>\n      <th>Target</th>\n    </tr>\n  </thead>\n  <tbody>\n    <tr>\n      <th>count</th>\n      <td>5000.000000</td>\n      <td>5000.000000</td>\n      <td>5000.000000</td>\n      <td>5000.000000</td>\n      <td>5000.000000</td>\n      <td>5000.000000</td>\n    </tr>\n    <tr>\n      <th>mean</th>\n      <td>0.577287</td>\n      <td>0.570648</td>\n      <td>0.601463</td>\n      <td>0.609685</td>\n      <td>0.605202</td>\n      <td>-0.109464</td>\n    </tr>\n    <tr>\n      <th>std</th>\n      <td>1.519043</td>\n      <td>1.509097</td>\n      <td>1.511941</td>\n      <td>1.499876</td>\n      <td>1.491528</td>\n      <td>49.658474</td>\n    </tr>\n    <tr>\n      <th>min</th>\n      <td>-3.635200</td>\n      <td>-3.295561</td>\n      <td>-3.922400</td>\n      <td>-3.688365</td>\n      <td>-3.856375</td>\n      <td>-203.648769</td>\n    </tr>\n    <tr>\n      <th>25%</th>\n      <td>-0.524725</td>\n      <td>-0.526124</td>\n      <td>-0.488893</td>\n      <td>-0.468482</td>\n      <td>-0.482765</td>\n      <td>-26.337749</td>\n    </tr>\n    <tr>\n      <th>50%</th>\n      <td>0.305244</td>\n      <td>0.288422</td>\n      <td>0.326872</td>\n      <td>0.290739</td>\n      <td>0.333431</td>\n      <td>-1.507371</td>\n    </tr>\n    <tr>\n      <th>75%</th>\n      <td>1.550164</td>\n      <td>1.477511</td>\n      <td>1.543315</td>\n      <td>1.576715</td>\n      <td>1.529544</td>\n      <td>28.055682</td>\n    </tr>\n    <tr>\n      <th>max</th>\n      <td>4.379678</td>\n      <td>4.479084</td>\n      <td>4.379678</td>\n      <td>4.379678</td>\n      <td>4.379678</td>\n      <td>209.467517</td>\n    </tr>\n  </tbody>\n</table>\n</div>"
     },
     "execution_count": 36,
     "metadata": {},
     "output_type": "execute_result"
    }
   ],
   "source": [
    "df.describe()"
   ],
   "metadata": {
    "collapsed": false,
    "pycharm": {
     "name": "#%%\n"
    }
   }
  },
  {
   "cell_type": "code",
   "execution_count": 37,
   "outputs": [
    {
     "data": {
      "text/plain": "               A         B         C         D         E    Target\nA       1.000000  0.650384  0.641420  0.644478  0.651553 -0.025961\nB       0.650384  1.000000  0.649802  0.640194  0.654123 -0.018336\nC       0.641420  0.649802  1.000000  0.643924  0.640466  0.566533\nD       0.644478  0.640194  0.643924  1.000000  0.644547 -0.018216\nE       0.651553  0.654123  0.640466  0.644547  1.000000 -0.032977\nTarget -0.025961 -0.018336  0.566533 -0.018216 -0.032977  1.000000",
      "text/html": "<div>\n<style scoped>\n    .dataframe tbody tr th:only-of-type {\n        vertical-align: middle;\n    }\n\n    .dataframe tbody tr th {\n        vertical-align: top;\n    }\n\n    .dataframe thead th {\n        text-align: right;\n    }\n</style>\n<table border=\"1\" class=\"dataframe\">\n  <thead>\n    <tr style=\"text-align: right;\">\n      <th></th>\n      <th>A</th>\n      <th>B</th>\n      <th>C</th>\n      <th>D</th>\n      <th>E</th>\n      <th>Target</th>\n    </tr>\n  </thead>\n  <tbody>\n    <tr>\n      <th>A</th>\n      <td>1.000000</td>\n      <td>0.650384</td>\n      <td>0.641420</td>\n      <td>0.644478</td>\n      <td>0.651553</td>\n      <td>-0.025961</td>\n    </tr>\n    <tr>\n      <th>B</th>\n      <td>0.650384</td>\n      <td>1.000000</td>\n      <td>0.649802</td>\n      <td>0.640194</td>\n      <td>0.654123</td>\n      <td>-0.018336</td>\n    </tr>\n    <tr>\n      <th>C</th>\n      <td>0.641420</td>\n      <td>0.649802</td>\n      <td>1.000000</td>\n      <td>0.643924</td>\n      <td>0.640466</td>\n      <td>0.566533</td>\n    </tr>\n    <tr>\n      <th>D</th>\n      <td>0.644478</td>\n      <td>0.640194</td>\n      <td>0.643924</td>\n      <td>1.000000</td>\n      <td>0.644547</td>\n      <td>-0.018216</td>\n    </tr>\n    <tr>\n      <th>E</th>\n      <td>0.651553</td>\n      <td>0.654123</td>\n      <td>0.640466</td>\n      <td>0.644547</td>\n      <td>1.000000</td>\n      <td>-0.032977</td>\n    </tr>\n    <tr>\n      <th>Target</th>\n      <td>-0.025961</td>\n      <td>-0.018336</td>\n      <td>0.566533</td>\n      <td>-0.018216</td>\n      <td>-0.032977</td>\n      <td>1.000000</td>\n    </tr>\n  </tbody>\n</table>\n</div>"
     },
     "execution_count": 37,
     "metadata": {},
     "output_type": "execute_result"
    }
   ],
   "source": [
    "df.corr()"
   ],
   "metadata": {
    "collapsed": false,
    "pycharm": {
     "name": "#%%\n"
    }
   }
  },
  {
   "cell_type": "markdown",
   "source": [
    "### Train/Test Split"
   ],
   "metadata": {
    "collapsed": false,
    "pycharm": {
     "name": "#%% md\n"
    }
   }
  },
  {
   "cell_type": "code",
   "execution_count": 38,
   "outputs": [],
   "source": [
    "target = df.columns[-1]\n",
    "features = df.columns.drop(target)\n",
    "\n",
    "X_train, X_test, y_train, y_test = train_test_split(\n",
    "    df[features],\n",
    "    df[target],\n",
    "    random_state=42,\n",
    "    test_size=0.2,\n",
    ")"
   ],
   "metadata": {
    "collapsed": false,
    "pycharm": {
     "name": "#%%\n"
    }
   }
  },
  {
   "cell_type": "markdown",
   "source": [
    "## Step 2 - Regressor Models, Review\n",
    "<br>\n",
    "\n",
    "### Problem\n",
    "Review - Regressors vs Classifiers\n",
    "<br>\n",
    "\n",
    "### Solution\n",
    "1. Regressors are for predicting continuous values.\n",
    "    - Examples?\n",
    "2. Classifiers are for predicting discrete values.\n",
    "    - Examples?"
   ],
   "metadata": {
    "collapsed": false,
    "pycharm": {
     "name": "#%% md\n"
    }
   }
  },
  {
   "cell_type": "markdown",
   "source": [
    "### Base Model: LinearRegression"
   ],
   "metadata": {
    "collapsed": false,
    "pycharm": {
     "name": "#%% md\n"
    }
   }
  },
  {
   "cell_type": "code",
   "execution_count": 39,
   "outputs": [
    {
     "name": "stdout",
     "output_type": "stream",
     "text": [
      "Algorithm: LinearRegression()\n",
      "Train Time: 0.00s\n",
      "Test Score: 79.62%\n",
      "MSE: 512.802013271985\n"
     ]
    }
   ],
   "source": [
    "base_model = LinearRegression()\n",
    "\n",
    "start = perf_counter()\n",
    "base_model.fit(X_train, y_train)\n",
    "stop = perf_counter()\n",
    "duration = stop - start\n",
    "\n",
    "print(f\"Algorithm: {base_model}\")\n",
    "print(f\"Train Time: {duration:.2f}s\")\n",
    "print(f\"Test Score: {base_model.score(X_test, y_test):.2%}\")\n",
    "print(f\"MSE: {mean_squared_error(y_test, base_model.predict(X_test))}\")"
   ],
   "metadata": {
    "collapsed": false,
    "pycharm": {
     "name": "#%%\n"
    }
   }
  },
  {
   "cell_type": "markdown",
   "source": [
    "### Other Linear Models"
   ],
   "metadata": {
    "collapsed": false,
    "pycharm": {
     "name": "#%% md\n"
    }
   }
  },
  {
   "cell_type": "code",
   "execution_count": 40,
   "outputs": [
    {
     "name": "stdout",
     "output_type": "stream",
     "text": [
      "Algorithm: BayesianRidge()\n",
      "Train Time: 0.00s\n",
      "Test Score: 79.62%\n",
      "MSE: 512.799626406829\n",
      "\n",
      "Algorithm: RidgeCV()\n",
      "Train Time: 0.00s\n",
      "Test Score: 79.62%\n",
      "MSE: 512.7998128942497\n",
      "\n",
      "Algorithm: LassoCV(random_state=42)\n",
      "Train Time: 0.05s\n",
      "Test Score: 79.62%\n",
      "MSE: 512.7977588863672\n",
      "\n",
      "Algorithm: SGDRegressor(random_state=42)\n",
      "Train Time: 0.01s\n",
      "Test Score: 79.62%\n",
      "MSE: 512.7126778441786\n",
      "\n",
      "Algorithm: PassiveAggressiveRegressor(random_state=42)\n",
      "Train Time: 0.00s\n",
      "Test Score: 72.54%\n",
      "MSE: 690.863888355196\n",
      "\n",
      "Algorithm: RANSACRegressor(random_state=42)\n",
      "Train Time: 0.03s\n",
      "Test Score: 77.32%\n",
      "MSE: 570.7119748792113\n",
      "\n"
     ]
    }
   ],
   "source": [
    "models = [\n",
    "    BayesianRidge(),\n",
    "    RidgeCV(),\n",
    "    LassoCV(random_state=42),\n",
    "    SGDRegressor(random_state=42),\n",
    "    PassiveAggressiveRegressor(random_state=42),\n",
    "    RANSACRegressor(random_state=42),\n",
    "]\n",
    "for model in models:\n",
    "    start = perf_counter()\n",
    "    model.fit(X_train, y_train)\n",
    "    stop = perf_counter()\n",
    "    duration = stop - start\n",
    "    print(f\"Algorithm: {model}\")\n",
    "    print(f\"Train Time: {duration:.2f}s\")\n",
    "    print(f\"Test Score: {model.score(X_test, y_test):.2%}\")\n",
    "    print(f\"MSE: {mean_squared_error(y_test, model.predict(X_test))}\\n\")"
   ],
   "metadata": {
    "collapsed": false,
    "pycharm": {
     "name": "#%%\n"
    }
   }
  },
  {
   "cell_type": "markdown",
   "source": [
    "### Are There Any Questions?\n",
    "[Allow time for only a few questions]\n",
    "<br>\n",
    "\n",
    "### Check For Understanding Questions\n",
    "1. True or False. It's a good idea to throw out techniques like: data cleaning, hyperparameter tuning and data engineering.\n",
    "2. Of the linear models we tested, which one performed best?\n",
    "3. What is the fundamental difference between a regressor and a classifier?\n",
    "4. What is the goto validation test for regression models?\n",
    "<br>\n",
    "\n",
    "### Check For Understanding Answers\n",
    "1. False. We only dropped these techniques for this workshop due to time constraints.\n",
    "2. Four-way tie with MSE 512 & score 79%: BayesianRidge, RidgeCV, LassoCV, SGDRegressor\n",
    "3. Regressors predict continuous values, classifiers predict discrete values.\n",
    "4. Mean Squared Error.\n",
    "<br>\n",
    "\n",
    "### Next Steps\n",
    "If you want to know more: [Suggest resources for further understanding]\n"
   ],
   "metadata": {
    "collapsed": false,
    "pycharm": {
     "name": "#%% md\n"
    }
   }
  },
  {
   "cell_type": "markdown",
   "source": [
    "## Step 3 - Ensemble Models\n",
    "<br>\n",
    "\n",
    "### Problem\n",
    "Model not working?\n",
    "<br>\n",
    "\n",
    "### Solution\n",
    "Try an ensemble model!"
   ],
   "metadata": {
    "collapsed": false,
    "pycharm": {
     "name": "#%% md\n"
    }
   }
  },
  {
   "cell_type": "markdown",
   "source": [
    "#### Stacked Linear Ensemble"
   ],
   "metadata": {
    "collapsed": false,
    "pycharm": {
     "name": "#%% md\n"
    }
   }
  },
  {
   "cell_type": "code",
   "execution_count": 41,
   "outputs": [],
   "source": [
    "from sklearn.ensemble import StackingRegressor"
   ],
   "metadata": {
    "collapsed": false,
    "pycharm": {
     "name": "#%%\n"
    }
   }
  },
  {
   "cell_type": "code",
   "execution_count": 42,
   "outputs": [
    {
     "name": "stdout",
     "output_type": "stream",
     "text": [
      "Workers: LR, BRR, RCV, LCV, SGDR, PAR, RANSAC\n",
      "Executive: BayesianRidge()\n",
      "Train Time: 0.63s\n",
      "Test Score: 79.62%\n",
      "MSE: 512.7959961191419\n"
     ]
    }
   ],
   "source": [
    "model = StackingRegressor(\n",
    "    estimators=[\n",
    "        (\"LR\", LinearRegression()),\n",
    "        (\"BRR\", BayesianRidge()),\n",
    "        (\"RCV\", RidgeCV()),\n",
    "        (\"LCV\", LassoCV(random_state=42)),\n",
    "        (\"SGDR\", SGDRegressor(random_state=42)),\n",
    "        (\"PAR\", PassiveAggressiveRegressor(random_state=42)),\n",
    "        (\"RANSAC\", RANSACRegressor(random_state=42)),\n",
    "    ],\n",
    "    final_estimator=BayesianRidge(),\n",
    ")\n",
    "\n",
    "start = perf_counter()\n",
    "model.fit(X_train, y_train)\n",
    "stop = perf_counter()\n",
    "duration = stop - start\n",
    "\n",
    "print(f\"Workers: {', '.join(model.named_estimators)}\")\n",
    "print(f\"Executive: {model.final_estimator}\")\n",
    "print(f\"Train Time: {duration:.2f}s\")\n",
    "print(f\"Test Score: {model.score(X_test, y_test):.2%}\")\n",
    "print(f\"MSE: {mean_squared_error(y_test, model.predict(X_test))}\")"
   ],
   "metadata": {
    "collapsed": false,
    "pycharm": {
     "name": "#%%\n"
    }
   }
  },
  {
   "cell_type": "markdown",
   "source": [
    "#### Prebuilt Ensemble Models"
   ],
   "metadata": {
    "collapsed": false,
    "pycharm": {
     "name": "#%% md\n"
    }
   }
  },
  {
   "cell_type": "code",
   "execution_count": 43,
   "outputs": [],
   "source": [
    "from sklearn.ensemble import *"
   ],
   "metadata": {
    "collapsed": false,
    "pycharm": {
     "name": "#%%\n"
    }
   }
  },
  {
   "cell_type": "code",
   "execution_count": 44,
   "outputs": [
    {
     "name": "stdout",
     "output_type": "stream",
     "text": [
      "Algorithm: GBR\n",
      "Train Time: 0.45s\n",
      "Test Score: 95.36%\n",
      "MSE: 116.83276574521398\n",
      "\n",
      "Algorithm: HGBR\n",
      "Train Time: 0.40s\n",
      "Test Score: 95.21%\n",
      "MSE: 120.54505468217337\n",
      "\n",
      "Algorithm: ET\n",
      "Train Time: 0.57s\n",
      "Test Score: 94.94%\n",
      "MSE: 127.33486237863517\n",
      "\n",
      "Algorithm: ABR\n",
      "Train Time: 0.19s\n",
      "Test Score: 94.93%\n",
      "MSE: 127.50951001560519\n",
      "\n",
      "Algorithm: RFR\n",
      "Train Time: 1.05s\n",
      "Test Score: 94.83%\n",
      "MSE: 130.16930958453065\n",
      "\n"
     ]
    }
   ],
   "source": [
    "models = [\n",
    "    (\"GBR\", GradientBoostingRegressor(random_state=42)),\n",
    "    (\"HGBR\", HistGradientBoostingRegressor(random_state=42)),\n",
    "    (\"ET\", ExtraTreesRegressor(random_state=42)),\n",
    "    (\"ABR\", AdaBoostRegressor(random_state=42)),\n",
    "    (\"RFR\", RandomForestRegressor(random_state=42)),\n",
    "]\n",
    "for name, model in models:\n",
    "    start = perf_counter()\n",
    "    model.fit(X_train, y_train)\n",
    "    stop = perf_counter()\n",
    "    duration = stop - start\n",
    "    print(f\"Algorithm: {name}\")\n",
    "    print(f\"Train Time: {duration:.2f}s\")\n",
    "    print(f\"Test Score: {model.score(X_test, y_test):.2%}\")\n",
    "    print(f\"MSE: {mean_squared_error(y_test, model.predict(X_test))}\")\n",
    "    print()"
   ],
   "metadata": {
    "collapsed": false,
    "pycharm": {
     "name": "#%%\n"
    }
   }
  },
  {
   "cell_type": "markdown",
   "source": [
    "### Are There Any Questions?\n",
    "[Allow time for only a few questions]\n",
    "<br>\n",
    "\n",
    "### Check For Understanding Questions\n",
    "1. Why did the stack of linear models only achieve results similar to the best model in the stack?\n",
    "2. [Question 2]\n",
    "3. [Question 3]\n",
    "<br>\n",
    "\n",
    "### Check For Understanding Answers\n",
    "1. Because they all work in a very similar way.\n",
    "2. [Answer 2]\n",
    "3. [Answer 3]\n",
    "<br>\n",
    "\n",
    "### Next Steps\n",
    "If you want to know more: [Scikit Ensemble Models](https://scikit-learn.org/stable/modules/ensemble.html)\n"
   ],
   "metadata": {
    "collapsed": false,
    "pycharm": {
     "name": "#%% md\n"
    }
   }
  },
  {
   "cell_type": "markdown",
   "source": [
    "## Step 4 - Super Ensemble Models\n",
    "<br>\n",
    "\n",
    "### Problem\n",
    "Model Still Not Working?\n",
    "<br>\n",
    "\n",
    "### Solution\n",
    "Try A Super Ensemble Regressor... Mo Powah!"
   ],
   "metadata": {
    "collapsed": false,
    "pycharm": {
     "name": "#%% md\n"
    }
   }
  },
  {
   "cell_type": "markdown",
   "source": [
    "#### Super Ensemble"
   ],
   "metadata": {
    "collapsed": false,
    "pycharm": {
     "name": "#%% md\n"
    }
   }
  },
  {
   "cell_type": "code",
   "execution_count": 45,
   "outputs": [
    {
     "name": "stdout",
     "output_type": "stream",
     "text": [
      "Workers: LR, RCV, LCV, SGDR, ARDR, PAR, TSR, RANSAC, RFR, HGBR, ABR, ET\n",
      "Executive: StackingRegressor(estimators=[('LR', LinearRegression()), ('RCV', RidgeCV()),\n",
      "                              ('LCV', LassoCV(random_state=42)),\n",
      "                              ('SGDR', SGDRegressor(random_state=42)),\n",
      "                              ('ARDR', ARDRegression()),\n",
      "                              ('PAR',\n",
      "                               PassiveAggressiveRegressor(random_state=42)),\n",
      "                              ('TSR', TheilSenRegressor(random_state=42)),\n",
      "                              ('RANSAC', RANSACRegressor(random_state=42)),\n",
      "                              ('RFR', RandomForestRegressor(random_state=42)),\n",
      "                              ('HGBR',\n",
      "                               HistGradientBoostingRegressor(random_state=42)),\n",
      "                              ('ABR', AdaBoostRegressor(random_state=42)),\n",
      "                              ('ET', ExtraTreesRegressor(random_state=42))],\n",
      "                  final_estimator=GradientBoostingRegressor(random_state=42))\n",
      "Train Time: 43.09s\n",
      "Test Score: 95.21%\n",
      "MSE: 120.55817486173389\n"
     ]
    }
   ],
   "source": [
    "model = StackingRegressor(\n",
    "    estimators=[\n",
    "        (\"LR\", LinearRegression()),\n",
    "        (\"RCV\", RidgeCV()),\n",
    "        (\"LCV\", LassoCV(random_state=42)),\n",
    "        (\"SGDR\", SGDRegressor(random_state=42)),\n",
    "        (\"ARDR\", ARDRegression()),\n",
    "        (\"PAR\", PassiveAggressiveRegressor(random_state=42)),\n",
    "        (\"TSR\", TheilSenRegressor(random_state=42)),\n",
    "        (\"RANSAC\", RANSACRegressor(random_state=42)),\n",
    "        (\"RFR\", RandomForestRegressor(random_state=42)),\n",
    "        (\"HGBR\", HistGradientBoostingRegressor(random_state=42)),\n",
    "        (\"ABR\", AdaBoostRegressor(random_state=42)),\n",
    "        (\"ET\", ExtraTreesRegressor(random_state=42)),\n",
    "    ],\n",
    "    final_estimator=StackingRegressor(\n",
    "        estimators=[\n",
    "            (\"LR\", LinearRegression()),\n",
    "            (\"RCV\", RidgeCV()),\n",
    "            (\"LCV\", LassoCV(random_state=42)),\n",
    "            (\"SGDR\", SGDRegressor(random_state=42)),\n",
    "            (\"ARDR\", ARDRegression()),\n",
    "            (\"PAR\", PassiveAggressiveRegressor(random_state=42)),\n",
    "            (\"TSR\", TheilSenRegressor(random_state=42)),\n",
    "            (\"RANSAC\", RANSACRegressor(random_state=42)),\n",
    "            (\"RFR\", RandomForestRegressor(random_state=42)),\n",
    "            (\"HGBR\", HistGradientBoostingRegressor(random_state=42)),\n",
    "            (\"ABR\", AdaBoostRegressor(random_state=42)),\n",
    "            (\"ET\", ExtraTreesRegressor(random_state=42)),\n",
    "        ],\n",
    "        final_estimator=GradientBoostingRegressor(random_state=42),\n",
    "    ),\n",
    ")\n",
    "\n",
    "start = perf_counter()\n",
    "model.fit(X_train, y_train)\n",
    "stop = perf_counter()\n",
    "duration = stop - start\n",
    "\n",
    "print(f\"Workers: {', '.join(model.named_estimators)}\")\n",
    "print(f\"Executive: {model.final_estimator}\")\n",
    "print(f\"Train Time: {duration:.2f}s\")\n",
    "print(f\"Test Score: {model.score(X_test, y_test):.2%}\")\n",
    "print(f\"MSE: {mean_squared_error(y_test, model.predict(X_test))}\")"
   ],
   "metadata": {
    "collapsed": false,
    "pycharm": {
     "name": "#%%\n"
    }
   }
  },
  {
   "cell_type": "code",
   "execution_count": 46,
   "outputs": [],
   "source": [
    "from sklearn.svm import SVR"
   ],
   "metadata": {
    "collapsed": false,
    "pycharm": {
     "name": "#%%\n"
    }
   }
  },
  {
   "cell_type": "code",
   "execution_count": 47,
   "outputs": [
    {
     "name": "stdout",
     "output_type": "stream",
     "text": [
      "Workers: GBR, BRR, SVR, RCV, LCV\n",
      "Executive: StackingRegressor(estimators=[('GBR',\n",
      "                               GradientBoostingRegressor(random_state=42)),\n",
      "                              ('BRR', BayesianRidge()), ('SVR', SVR()),\n",
      "                              ('RCV', RidgeCV()),\n",
      "                              ('LCV', LassoCV(random_state=42))],\n",
      "                  final_estimator=GradientBoostingRegressor())\n",
      "Train Time: 12.37s\n",
      "Test Score: 95.20%\n",
      "MSE: 120.64349460650865\n"
     ]
    }
   ],
   "source": [
    "model = StackingRegressor(\n",
    "    estimators=[\n",
    "        (\"GBR\", GradientBoostingRegressor(random_state=42)),\n",
    "        (\"BRR\", BayesianRidge()),\n",
    "        (\"SVR\", SVR()),\n",
    "        (\"RCV\", RidgeCV()),\n",
    "        (\"LCV\", LassoCV(random_state=42)),\n",
    "    ],\n",
    "    final_estimator=StackingRegressor(\n",
    "        estimators=[\n",
    "            (\"GBR\", GradientBoostingRegressor(random_state=42)),\n",
    "            (\"BRR\", BayesianRidge()),\n",
    "            (\"SVR\", SVR()),\n",
    "            (\"RCV\", RidgeCV()),\n",
    "            (\"LCV\", LassoCV(random_state=42)),\n",
    "        ],\n",
    "        final_estimator=GradientBoostingRegressor(),\n",
    "    ),\n",
    ")\n",
    "\n",
    "start = perf_counter()\n",
    "model.fit(X_train, y_train)\n",
    "stop = perf_counter()\n",
    "duration = stop - start\n",
    "\n",
    "print(f\"Workers: {', '.join(model.named_estimators)}\")\n",
    "print(f\"Executive: {model.final_estimator}\")\n",
    "print(f\"Train Time: {duration:.2f}s\")\n",
    "print(f\"Test Score: {model.score(X_test, y_test):.2%}\")\n",
    "print(f\"MSE: {mean_squared_error(y_test, model.predict(X_test))}\")"
   ],
   "metadata": {
    "collapsed": false,
    "pycharm": {
     "name": "#%%\n"
    }
   }
  },
  {
   "cell_type": "markdown",
   "source": [
    "#### Ensemble - Double Stack"
   ],
   "metadata": {
    "collapsed": false,
    "pycharm": {
     "name": "#%% md\n"
    }
   }
  },
  {
   "cell_type": "code",
   "execution_count": 48,
   "outputs": [
    {
     "name": "stdout",
     "output_type": "stream",
     "text": [
      "Workers: GBR, HGBR, ET\n",
      "Executive: GradientBoostingRegressor(random_state=42)\n",
      "Train Time: 7.35s\n",
      "Test Score: 95.54%\n",
      "MSE: 112.25137112560077\n"
     ]
    }
   ],
   "source": [
    "model = StackingRegressor(\n",
    "    estimators=[\n",
    "        (\"GBR\", GradientBoostingRegressor(random_state=42)),\n",
    "        (\"HGBR\", HistGradientBoostingRegressor(random_state=42)),\n",
    "        (\"ET\", ExtraTreesRegressor(random_state=42)),\n",
    "    ],\n",
    "    final_estimator=GradientBoostingRegressor(random_state=42),\n",
    ")\n",
    "\n",
    "start = perf_counter()\n",
    "model.fit(X_train, y_train)\n",
    "stop = perf_counter()\n",
    "duration = stop - start\n",
    "\n",
    "print(f\"Workers: {', '.join(model.named_estimators)}\")\n",
    "print(f\"Executive: {model.final_estimator}\")\n",
    "print(f\"Train Time: {duration:.2f}s\")\n",
    "print(f\"Test Score: {model.score(X_test, y_test):.2%}\")\n",
    "print(f\"MSE: {mean_squared_error(y_test, model.predict(X_test))}\")"
   ],
   "metadata": {
    "collapsed": false,
    "pycharm": {
     "name": "#%%\n"
    }
   }
  },
  {
   "cell_type": "markdown",
   "source": [
    "### Are There Any Questions?\n",
    "[Allow time for questions]\n",
    "<br>\n",
    "\n",
    "### Check For Understanding Questions\n",
    "1. Why not just use all the models?\n",
    "2. True or False. When using an ensemble, it's more effective to use similar models as it boosts the ensemble's performance.\n",
    "3. Is an ensemble of ensembles of ensembles possible?\n",
    "<br>\n",
    "\n",
    "### Check For Understanding Answers\n",
    "1. Using similar models typically doesn't make the model better, unless they are very dynamic like pre-made ensemble models.\n",
    "2. False.\n",
    "3. Yes.\n",
    "<br>\n",
    "\n",
    "### Next Steps\n",
    "If you want to know more: [Scikit Documentation](https://scikit-learn.org)\n",
    "\n",
    "As an exercise, try to work out which model or combination of models gives the best MSE for the training time it requires.\n"
   ],
   "metadata": {
    "collapsed": false,
    "pycharm": {
     "name": "#%% md\n"
    }
   }
  },
  {
   "cell_type": "code",
   "execution_count": 48,
   "outputs": [],
   "source": [],
   "metadata": {
    "collapsed": false,
    "pycharm": {
     "name": "#%%\n"
    }
   }
  }
 ],
 "metadata": {
  "kernelspec": {
   "display_name": "Python 3",
   "language": "python",
   "name": "python3"
  },
  "language_info": {
   "codemirror_mode": {
    "name": "ipython",
    "version": 2
   },
   "file_extension": ".py",
   "mimetype": "text/x-python",
   "name": "python",
   "nbconvert_exporter": "python",
   "pygments_lexer": "ipython2",
   "version": "2.7.6"
  }
 },
 "nbformat": 4,
 "nbformat_minor": 0
}